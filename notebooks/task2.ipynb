{
 "cells": [
  {
   "cell_type": "markdown",
   "metadata": {},
   "source": [
    "# Task 2\n",
    "\n",
    "### Create three individual visualisations which each highlight an analysis outcome for this data"
   ]
  },
  {
   "cell_type": "markdown",
   "metadata": {
    "collapsed": true,
    "pycharm": {
     "name": "#%% md\n"
    }
   },
   "source": [
    "Import libraries and data"
   ]
  },
  {
   "cell_type": "code",
   "execution_count": null,
   "metadata": {
    "pycharm": {
     "name": "#%%\n"
    }
   },
   "outputs": [],
   "source": [
    "from datetime import datetime\n",
    "import pathlib\n",
    "import pandas as pd\n",
    "import plotly.express as px\n",
    "\n",
    "\n",
    "df = pd.read_csv(\"clean_data.csv\")\n",
    "df.shape\n",
    "cwd = pathlib.Path().parent.absolute()\n",
    "images_dir = cwd.parent\n",
    "\n",
    "images_dir = images_dir / \"flask_dash/assets/images\""
   ]
  },
  {
   "cell_type": "markdown",
   "metadata": {},
   "source": [
    "Dates are in the string format of 2020/02/29 00:00:00+00 of type objectobject"
   ]
  },
  {
   "cell_type": "code",
   "execution_count": null,
   "metadata": {},
   "outputs": [],
   "source": [
    "df.Date.dtype\n",
    "df"
   ]
  },
  {
   "cell_type": "markdown",
   "metadata": {},
   "source": [
    "We can convert the date to a datetime type for time series analysis"
   ]
  },
  {
   "cell_type": "code",
   "execution_count": null,
   "metadata": {},
   "outputs": [],
   "source": [
    "df.Date = pd.to_datetime(df.Date)\n",
    "df.Date.dtype"
   ]
  },
  {
   "cell_type": "markdown",
   "metadata": {
    "pycharm": {
     "name": "#%% md\n"
    }
   },
   "source": [
    "Create a graph showing the Male, Female and unknown cases from the start to latest date"
   ]
  },
  {
   "cell_type": "code",
   "execution_count": null,
   "metadata": {
    "pycharm": {
     "name": "#%%\n"
    },
    "scrolled": false
   },
   "outputs": [],
   "source": [
    "grouped = df.groupby([\"Date\"])[[\"Male\", \"Female\", \"Unknown\"]].apply(sum).reset_index()\n",
    "\n",
    "fig = px.line(\n",
    "    grouped,\n",
    "    x=\"Date\",\n",
    "    y=[\"Male\", \"Female\", \"Unknown\"],\n",
    "    title=\"Monthly Sex of Cases\",\n",
    "    width=800,\n",
    "    height=400,\n",
    ")\n",
    "fig.show()\n",
    "fig.write_image(f\"{images_dir}/sex.svg\", format=\"svg\")"
   ]
  },
  {
   "cell_type": "markdown",
   "metadata": {
    "pycharm": {
     "name": "#%% md\n"
    }
   },
   "source": [
    "Create a scatter plot  showing the daily cconfirmed cases"
   ]
  },
  {
   "cell_type": "code",
   "execution_count": null,
   "metadata": {
    "pycharm": {
     "name": "#%%\n"
    }
   },
   "outputs": [],
   "source": [
    "grouped = df.groupby(\"Date\")[\"Confirmed\"].sum().reset_index()\n",
    "\n",
    "fig = px.scatter(grouped, x=\"Date\", y=\"Confirmed\", title=\"Daily Confirmed Cases\")\n",
    "\n",
    "fig.write_image(f\"{images_dir}/daily_cases.svg\", format=\"svg\")\n",
    "fig.show()"
   ]
  },
  {
   "cell_type": "markdown",
   "metadata": {},
   "source": [
    "Create a ploy showing the growth of confirmed cases and deaths"
   ]
  },
  {
   "cell_type": "code",
   "execution_count": null,
   "metadata": {
    "scrolled": true
   },
   "outputs": [],
   "source": [
    "fig = px.line(\n",
    "    df,\n",
    "    x=\"Date\",\n",
    "    y=[\n",
    "        \"Total Confirmed\",\n",
    "        \"Total Deaths\",\n",
    "    ],\n",
    "    title=\"Monthly Growth\",\n",
    "    #     facet_col='Month',\n",
    "    #     facet_col_wrap=3\n",
    ")\n",
    "\n",
    "fig.write_image(f\"{images_dir}/monthly_growth.svg\", format=\"svg\")\n",
    "fig.show()"
   ]
  }
 ],
 "metadata": {
  "kernelspec": {
   "display_name": "Python 3",
   "language": "python",
   "name": "python3"
  },
  "language_info": {
   "codemirror_mode": {
    "name": "ipython",
    "version": 3
   },
   "file_extension": ".py",
   "mimetype": "text/x-python",
   "name": "python",
   "nbconvert_exporter": "python",
   "pygments_lexer": "ipython3",
   "version": "3.9.1"
  }
 },
 "nbformat": 4,
 "nbformat_minor": 1
}