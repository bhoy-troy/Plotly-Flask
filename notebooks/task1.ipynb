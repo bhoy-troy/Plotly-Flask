{
 "cells": [
  {
   "cell_type": "markdown",
   "metadata": {},
   "source": [
    "# Task 1\n",
    "\n",
    "This data set is bublished by the Irish government [here](https://data.gov.ie/dataset/covidstatisticsprofilehpscirelandopendata1). \n",
    "\n",
    "It contains the latest Covid-19 Daily Statistics as well as the Profile of Covid-19 Daily Statistics for Ireland, as reported by the Health Surveillance Protection Centre.The Covid-19 Daily Statistics are updated on a daily basis, with the latest record reporting the counts recorded at 1pm the same day."
   ]
  },
  {
   "cell_type": "markdown",
   "metadata": {
    "collapsed": true,
    "pycharm": {
     "name": "#%% md\n"
    }
   },
   "source": [
    "Import libraries and data and "
   ]
  },
  {
   "cell_type": "code",
   "execution_count": null,
   "metadata": {
    "pycharm": {
     "name": "#%%\n"
    }
   },
   "outputs": [],
   "source": [
    "from datetime import datetime\n",
    "import pandas as pd\n",
    "\n",
    "df = pd.read_csv(\"CovidStatisticsProfileHPSCIrelandOpenData.csv\")"
   ]
  },
  {
   "cell_type": "markdown",
   "metadata": {},
   "source": [
    "Show how many columns and rows are in the data set using the shape pandas dataframe attribute."
   ]
  },
  {
   "cell_type": "code",
   "execution_count": null,
   "metadata": {},
   "outputs": [],
   "source": [
    "df.shape"
   ]
  },
  {
   "cell_type": "markdown",
   "metadata": {},
   "source": [
    "In the early days of Covid 19 being tested a subset of the data either didn't exist or was not being recorded which leads to many NaN values in the dataset. By looking at the firct 30 rows this is obvious."
   ]
  },
  {
   "cell_type": "code",
   "execution_count": null,
   "metadata": {},
   "outputs": [],
   "source": [
    "df.head(30)"
   ]
  },
  {
   "cell_type": "markdown",
   "metadata": {},
   "source": [
    "What columns and type of data have we got?\n",
    "\n",
    "* X\n",
    "* Y\n",
    "* Date\n",
    "* ConfirmedCovidCases\n",
    "* TotalConfirmedCovidCases\n",
    "* ConfirmedCovidDeaths \n",
    "* TotalCovidDeaths \n",
    "* StatisticsProfileDate \n",
    "* CovidCasesConfirmed\n",
    "* HospitalisedCovidCases \n",
    "* RequiringICUCovidCases\n",
    "* HealthcareWorkersCovidCases\n",
    "* ClustersNotified  \n",
    "* HospitalisedAged5\n",
    "* HospitalisedAged5to14\n",
    "* HospitalisedAged15to24 \n",
    "* HospitalisedAged25to34  \n",
    "* HospitalisedAged35to44 \n",
    "* HospitalisedAged45to54 \n",
    "* HospitalisedAged55to64\n",
    "* HospitalisedAged65up\n",
    "* Male \n",
    "* Female\n",
    "* Unknown  \n",
    "* Aged1\n",
    "* Aged1to4\n",
    "* Aged5to14 \n",
    "* Aged15to24 \n",
    "* Aged25to34\n",
    "* Aged35to44 \n",
    "* Aged45to54 \n",
    "* Aged55to64 \n",
    "* Aged65up \n",
    "* Median_Age\n",
    "* CommunityTransmission\n",
    "* CloseContact\n",
    "* TravelAbroad\n",
    "* FID"
   ]
  },
  {
   "cell_type": "markdown",
   "metadata": {},
   "source": [
    "What Columns and data types have we got. The `info` function prints information about a pandas  data frame"
   ]
  },
  {
   "cell_type": "code",
   "execution_count": null,
   "metadata": {
    "pycharm": {
     "name": "#%%\n"
    }
   },
   "outputs": [],
   "source": [
    "df.info()"
   ]
  },
  {
   "cell_type": "markdown",
   "metadata": {},
   "source": [
    "How many rows have we with null values?"
   ]
  },
  {
   "cell_type": "code",
   "execution_count": null,
   "metadata": {},
   "outputs": [],
   "source": [
    "num_of_null_rows = df.isna().sum().max()\n",
    "num_of_null_rows"
   ]
  },
  {
   "cell_type": "markdown",
   "metadata": {},
   "source": [
    "What percentage of rows have at least one NaN value"
   ]
  },
  {
   "cell_type": "code",
   "execution_count": null,
   "metadata": {},
   "outputs": [],
   "source": [
    "na_percentage = \"{:.2f}\".format(num_of_null_rows / len(df) * 100)\n",
    "print(f\"Up to {na_percentage}% of of the {len(df)} rows have at lest 1 null column\")"
   ]
  },
  {
   "cell_type": "markdown",
   "metadata": {},
   "source": [
    "Lets drop the rows with NaN values by using the pandas.DataFrame inbuilt function `dropna()`. By using the arguement __inplace=True__ we update the existing dataframe and returns None rather than returning a modified copy of teh dataframe.\n"
   ]
  },
  {
   "cell_type": "code",
   "execution_count": null,
   "metadata": {},
   "outputs": [],
   "source": [
    "df.dropna(inplace=True)\n",
    "df.shape"
   ]
  },
  {
   "cell_type": "markdown",
   "metadata": {
    "pycharm": {
     "name": "#%% md\n"
    }
   },
   "source": [
    "Lets add a month column"
   ]
  },
  {
   "cell_type": "code",
   "execution_count": null,
   "metadata": {
    "pycharm": {
     "name": "#%%\n"
    }
   },
   "outputs": [],
   "source": [
    "df['Month']  = pd.DatetimeIndex(df['Date']).month_name()"
   ]
  },
  {
   "cell_type": "markdown",
   "metadata": {
    "pycharm": {
     "name": "#%% md\n"
    }
   },
   "source": [
    "There are a number of columns that are very similar and hold quite similar data also. \n",
    "\n",
    "We can drop any columns that may be seen non essestial to this project."
   ]
  },
  {
   "cell_type": "code",
   "execution_count": null,
   "metadata": {
    "pycharm": {
     "name": "#%%\n"
    }
   },
   "outputs": [],
   "source": [
    "columns_to_drop = [\n",
    "    \"X\",\n",
    "    \"Y\",\n",
    "  \n",
    "    'StatisticsProfileDate',\n",
    "    \"CovidCasesConfirmed\",\n",
    "    \"HospitalisedCovidCases\",\n",
    "    \"RequiringICUCovidCases\",\n",
    "    \"HealthcareWorkersCovidCases\",\n",
    "    \"ClustersNotified\",\n",
    "    \"HospitalisedAged5\",\n",
    "    \"HospitalisedAged5to14\",\n",
    "    \"HospitalisedAged15to24\",\n",
    "    \"HospitalisedAged25to34\",\n",
    "    \"HospitalisedAged35to44\",\n",
    "    \"HospitalisedAged45to54\",\n",
    "    \"HospitalisedAged55to64\",\n",
    "    \"HospitalisedAged65up\",\n",
    "   \n",
    "    \"Aged1\",\n",
    "    \"Aged1to4\",\n",
    "    \"Aged5to14\",\n",
    "    \"Aged15to24\",\n",
    "    \"Aged25to34\",\n",
    "    \"Aged35to44\",\n",
    "    \"Aged45to54\",\n",
    "    \"Aged55to64\",\n",
    "    \"Aged65up\",\n",
    "    \"Median_Age\",\n",
    "    \"CommunityTransmission\",\n",
    "    \"CloseContact\",\n",
    "    \"TravelAbroad\",\n",
    "    \"FID\",\n",
    "]\n",
    "df.drop(columns_to_drop, axis=1, inplace=True)"
   ]
  },
  {
   "cell_type": "markdown",
   "metadata": {
    "pycharm": {
     "name": "#%% md\n"
    }
   },
   "source": [
    "There are a number of columns that are very similar and hold quite similar data also. \n",
    "\n",
    "We can drop any columns that may be seen non essestial to this project."
   ]
  },
  {
   "cell_type": "code",
   "execution_count": null,
   "metadata": {},
   "outputs": [],
   "source": [
    "col_names = {\n",
    "    \"ConfirmedCovidCases\": \"Confirmed\",\n",
    "    \"TotalConfirmedCovidCases\": \"Total Confirmed\",\n",
    "    \"ConfirmedCovidDeaths\": \"Confirmed Deaths\",\n",
    "    \"TotalCovidDeaths\": \"Total Deaths\",\n",
    "}\n",
    "df\n",
    "\n",
    "df.rename(col_names, axis=1, inplace=True)\n",
    "df\n"
   ]
  },
  {
   "cell_type": "markdown",
   "metadata": {
    "pycharm": {
     "name": "#%% md\n"
    }
   },
   "source": [
    "Save the claen data to a new file using pandas in-built `to_csv` function, set the index to False as we don't require the index column of the dataframe to be saved"
   ]
  },
  {
   "cell_type": "code",
   "execution_count": null,
   "metadata": {},
   "outputs": [],
   "source": [
    "df.to_csv(\"clean_data.csv\", index=False)"
   ]
  }
 ],
 "metadata": {
  "kernelspec": {
   "display_name": "Python 3",
   "language": "python",
   "name": "python3"
  },
  "language_info": {
   "codemirror_mode": {
    "name": "ipython",
    "version": 3
   },
   "file_extension": ".py",
   "mimetype": "text/x-python",
   "name": "python",
   "nbconvert_exporter": "python",
   "pygments_lexer": "ipython3",
   "version": "3.9.1"
  }
 },
 "nbformat": 4,
 "nbformat_minor": 1
}
